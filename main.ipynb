{
 "cells": [
  {
   "cell_type": "code",
   "outputs": [],
   "source": [
    "import xml.etree.ElementTree as ET\n",
    "import numpy as np\n",
    "import string \n",
    "from sklearn.feature_extraction.text import TfidfVectorizer\n",
    "from sklearn.model_selection import train_test_split\n",
    "from sklearn.metrics import classification_report\n",
    "from sklearn.svm import LinearSVC\n",
    "from sklearn.naive_bayes import MultinomialNB, ComplementNB\n",
    "from sklearn.linear_model import Perceptron, SGDClassifier\n",
    "from sklearn.ensemble import BaggingClassifier, AdaBoostClassifier"
   ],
   "metadata": {
    "collapsed": false,
    "ExecuteTime": {
     "end_time": "2025-01-03T14:37:10.078617Z",
     "start_time": "2025-01-03T14:37:09.258843Z"
    }
   },
   "id": "6c9dceed68cfb0bb",
   "execution_count": 1
  },
  {
   "cell_type": "code",
   "execution_count": 2,
   "id": "initial_id",
   "metadata": {
    "collapsed": true,
    "ExecuteTime": {
     "end_time": "2025-01-03T14:37:10.625554Z",
     "start_time": "2025-01-03T14:37:10.621020Z"
    }
   },
   "outputs": [],
   "source": [
    "def extract_train_party_text_pairs(xml_string: str) -> list[tuple[str, str]]:\n",
    "    \n",
    "    # Parse the XML string\n",
    "    root = ET.fromstring(xml_string)\n",
    "    \n",
    "    # Store results\n",
    "    pairs = []\n",
    "    \n",
    "    # Process each doc element\n",
    "    for doc in root.findall('.//doc'):\n",
    "        # Extract party label\n",
    "        parti_elem = doc.find('.//PARTI')\n",
    "        if parti_elem is not None:\n",
    "            party = parti_elem.get('valeur')\n",
    "            \n",
    "            # Extract text content\n",
    "            text_elem = doc.find('.//texte')\n",
    "            if text_elem is not None:\n",
    "                # Combine all paragraph texts\n",
    "                paragraphs = [p.text for p in text_elem.findall('p') if p.text]\n",
    "                full_text = ' '.join(paragraphs)\n",
    "                \n",
    "                # Add to results\n",
    "                pairs.append([full_text, party])\n",
    "    \n",
    "    pairs = np.array(pairs, dtype=str)\n",
    "    \n",
    "    return pairs"
   ]
  },
  {
   "cell_type": "code",
   "outputs": [],
   "source": [
    "with open(\"./Corpus d_apprentissage/deft09_parlement_appr_en.xml\", encoding=\"utf-8\") as f:\n",
    "    train_text = f.read()\n",
    "\n",
    "data = extract_train_party_text_pairs(train_text)\n",
    "\n",
    "\n"
   ],
   "metadata": {
    "collapsed": false,
    "ExecuteTime": {
     "end_time": "2025-01-03T14:37:12.091774Z",
     "start_time": "2025-01-03T14:37:11.306833Z"
    }
   },
   "id": "6b8c1dc9c1a76f62",
   "execution_count": 3
  },
  {
   "cell_type": "code",
   "outputs": [],
   "source": [
    "X_data = data[:, 0]\n",
    "y_data = data[:, 1]\n",
    "\n",
    "X_train, X_test, y_train, y_test = train_test_split(X_data, y_data, test_size=0.1, stratify=y_data, random_state=42)\n",
    "\n",
    "def remove_punctuation(text):\n",
    "    return ''.join(char.lower() for char in text if char not in string.punctuation)\n",
    "\n",
    "\n",
    "\n",
    "vectorizer = TfidfVectorizer(preprocessor=remove_punctuation, stop_words='english', max_df=0.9, ngram_range=(1, 2))\n",
    "\n",
    "X_train = vectorizer.fit_transform(X_train)\n",
    "X_test = vectorizer.transform(X_test)"
   ],
   "metadata": {
    "collapsed": false,
    "ExecuteTime": {
     "end_time": "2025-01-03T14:52:29.024986Z",
     "start_time": "2025-01-03T14:52:19.954335Z"
    }
   },
   "id": "16ee676667633d92",
   "execution_count": 33
  },
  {
   "cell_type": "code",
   "outputs": [
    {
     "name": "stdout",
     "output_type": "stream",
     "text": [
      "(17433, 1372670)\n",
      "(17433,)\n",
      "(1937, 1372670)\n",
      "(1937,)\n"
     ]
    }
   ],
   "source": [
    "print(X_train.shape)\n",
    "print(y_train.shape)\n",
    "print(X_test.shape)\n",
    "print(y_test.shape)"
   ],
   "metadata": {
    "collapsed": false,
    "ExecuteTime": {
     "end_time": "2025-01-03T14:52:30.000090Z",
     "start_time": "2025-01-03T14:52:29.996715Z"
    }
   },
   "id": "5cdc8f7f8cefc598",
   "execution_count": 34
  },
  {
   "cell_type": "code",
   "outputs": [
    {
     "name": "stdout",
     "output_type": "stream",
     "text": [
      "['ELDR' 'PSE' 'PPE-DE' ... 'PSE' 'PPE-DE' 'PPE-DE']\n"
     ]
    }
   ],
   "source": [
    "print(y_train)"
   ],
   "metadata": {
    "collapsed": false,
    "ExecuteTime": {
     "end_time": "2025-01-03T14:57:55.063910Z",
     "start_time": "2025-01-03T14:57:55.060656Z"
    }
   },
   "id": "93117fb681ebb090",
   "execution_count": 45
  },
  {
   "cell_type": "code",
   "outputs": [
    {
     "name": "stdout",
     "output_type": "stream",
     "text": [
      "              precision    recall  f1-score   support\n",
      "\n",
      "        ELDR       0.69      0.22      0.33       201\n",
      "     GUE-NGL       0.66      0.49      0.56       269\n",
      "      PPE-DE       0.51      0.77      0.62       686\n",
      "         PSE       0.46      0.45      0.46       544\n",
      "   Verts-ALE       0.49      0.24      0.32       237\n",
      "\n",
      "    accuracy                           0.52      1937\n",
      "   macro avg       0.56      0.43      0.46      1937\n",
      "weighted avg       0.53      0.52      0.50      1937\n"
     ]
    }
   ],
   "source": [
    "clf = LinearSVC()\n",
    "\n",
    "clf.fit(X_train, y_train)\n",
    "\n",
    "predictions = clf.predict(X_test)\n",
    "\n",
    "print(classification_report(y_test, predictions))"
   ],
   "metadata": {
    "collapsed": false,
    "ExecuteTime": {
     "end_time": "2025-01-03T14:55:32.997047Z",
     "start_time": "2025-01-03T14:55:23.131854Z"
    }
   },
   "id": "9b33e900315ed893",
   "execution_count": 43
  },
  {
   "cell_type": "code",
   "outputs": [],
   "source": [],
   "metadata": {
    "collapsed": false
   },
   "id": "988a20c504a1f2df"
  }
 ],
 "metadata": {
  "kernelspec": {
   "display_name": "Python 3",
   "language": "python",
   "name": "python3"
  },
  "language_info": {
   "codemirror_mode": {
    "name": "ipython",
    "version": 2
   },
   "file_extension": ".py",
   "mimetype": "text/x-python",
   "name": "python",
   "nbconvert_exporter": "python",
   "pygments_lexer": "ipython2",
   "version": "2.7.6"
  }
 },
 "nbformat": 4,
 "nbformat_minor": 5
}
