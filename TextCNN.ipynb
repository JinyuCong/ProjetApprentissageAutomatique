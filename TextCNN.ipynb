{
 "cells": [
  {
   "cell_type": "code",
   "id": "initial_id",
   "metadata": {
    "collapsed": true,
    "ExecuteTime": {
     "end_time": "2025-01-06T10:46:05.558595Z",
     "start_time": "2025-01-06T10:46:04.853592Z"
    }
   },
   "source": [
    "import os\n",
    "import numpy as np\n",
    "import torch\n",
    "import torch.nn as nn\n",
    "from torch.utils.data import Dataset, DataLoader\n",
    "from tqdm import tqdm\n",
    "from sklearn.metrics import classification_report\n",
    "import xml.etree.ElementTree as ET\n",
    "import nltk\n",
    "import matplotlib.pyplot as plt"
   ],
   "outputs": [],
   "execution_count": 19
  },
  {
   "cell_type": "code",
   "source": [
    "def read_train_data(file_path, num=None):\n",
    "    with open(file_path, 'r', encoding=\"utf-8\") as f:\n",
    "        xml_string = f.read()\n",
    "    \n",
    "    root = ET.fromstring(xml_string)\n",
    "    texts = []\n",
    "    labels = []\n",
    "    \n",
    "    for doc in root.findall('.//doc'):\n",
    "        parti_elem = doc.find('.//PARTI')\n",
    "        if parti_elem is not None:\n",
    "            party = parti_elem.get('valeur')\n",
    "            text_elem = doc.find('.//texte')\n",
    "            if text_elem is not None:\n",
    "                paragraphs = [p.text for p in text_elem.findall('p') if p.text]\n",
    "                full_text = ' '.join(paragraphs)\n",
    "                texts.append(full_text)\n",
    "                labels.append(party)\n",
    "    if num:\n",
    "        return texts[:num], labels[:num]\n",
    "    else:\n",
    "        return texts, labels\n",
    "\n",
    "def read_test_data(xml_file_path, ref_file_path, num=None):\n",
    "    \n",
    "    id_to_texts = {}\n",
    "    texts = []\n",
    "    labels = []\n",
    "    \n",
    "    with open(xml_file_path, 'r', encoding=\"utf-8\") as f:\n",
    "        xml_string = f.read()\n",
    "        \n",
    "    root = ET.fromstring(xml_string)\n",
    "    \n",
    "    for doc in root.findall('.//doc'):\n",
    "        text_id = doc.get('id')\n",
    "        text_elem = doc.find('.//texte')\n",
    "        if text_elem is not None:\n",
    "            paragraphs = [p.text for p in text_elem.findall('p') if p.text]\n",
    "            full_text = ' '.join(paragraphs)\n",
    "            id_to_texts[text_id] = full_text\n",
    "            \n",
    "    with open(ref_file_path, 'r', encoding=\"utf-8\") as f:\n",
    "        ref_string = f.read()\n",
    "        \n",
    "    for line in ref_string.split(\"\\n\"):\n",
    "        line_elem = line.strip().split(\"\\t\")\n",
    "        if line_elem[0] in id_to_texts:\n",
    "            texts.append(id_to_texts[line_elem[0]])\n",
    "            labels.append(line_elem[1])\n",
    "            \n",
    "    if num:\n",
    "        return texts[:num], labels[:num]\n",
    "    else:\n",
    "        return texts, labels\n",
    "\n",
    "def build_corpus(train_texts, embedding_dim):\n",
    "    word_2_index = {\"<PAD>\": 0, \"<UNK>\": 1}\n",
    "    for text in train_texts:\n",
    "        for word in text:\n",
    "            word_2_index[word] = word_2_index.get(word, len(word_2_index))\n",
    "    return word_2_index, nn.Embedding(len(word_2_index), embedding_dim)"
   ],
   "metadata": {
    "collapsed": false,
    "ExecuteTime": {
     "end_time": "2025-01-06T10:26:46.023228Z",
     "start_time": "2025-01-06T10:26:46.016443Z"
    }
   },
   "id": "89943cd7ad4e5e2d",
   "outputs": [],
   "execution_count": 12
  },
  {
   "metadata": {
    "ExecuteTime": {
     "end_time": "2025-01-06T10:26:46.787245Z",
     "start_time": "2025-01-06T10:26:46.782502Z"
    }
   },
   "cell_type": "code",
   "source": [
    "class TextDataset(Dataset):\n",
    "    def __init__(self, texts, labels, word_2_index, max_len):\n",
    "        self.texts = texts\n",
    "        self.labels = labels\n",
    "        self.word_2_index = word_2_index\n",
    "        self.max_len = max_len\n",
    "        \n",
    "    def __getitem__(self, index):\n",
    "        text = self.texts[index][:self.max_len]\n",
    "        label = self.labels[index]\n",
    "        \n",
    "        text_idx = [self.word_2_index.get(word, 1) for word in text]\n",
    "        text_idx = text_idx + [0] * (self.max_len - len(text_idx))\n",
    "        text_idx = torch.tensor(text_idx).unsqueeze(0)\n",
    "        \n",
    "        return text_idx, label\n",
    "    \n",
    "    def __len__(self):\n",
    "        return len(self.texts)"
   ],
   "id": "fd07282761ac7172",
   "outputs": [],
   "execution_count": 13
  },
  {
   "metadata": {
    "ExecuteTime": {
     "end_time": "2025-01-06T10:26:47.310235Z",
     "start_time": "2025-01-06T10:26:47.304020Z"
    }
   },
   "cell_type": "code",
   "source": [
    "class Block(nn.Module):\n",
    "    def __init__(self, kernel_s, embedding_dim, max_len):\n",
    "        super().__init__()\n",
    "        # in_channel(输入形状): 64 * 1 * 200 * 20 (batch * in_channel * max_len * emb_dim)\n",
    "        self.cnn = nn.Conv2d(in_channels=1, out_channels=2, kernel_size=(kernel_s, embedding_dim)) \n",
    "        self.act = nn.ReLU()\n",
    "        self.mxp = nn.MaxPool1d(kernel_size=(max_len-kernel_s+1))\n",
    "        \n",
    "    def forward(self, batch_emb):\n",
    "        c = self.cnn.forward(batch_emb)\n",
    "        a = self.act.forward(c)\n",
    "        a = a.squeeze(dim=-1)\n",
    "        m = self.mxp.forward(a)\n",
    "        m = m.squeeze(dim=-1)\n",
    "        return m\n",
    "    \n",
    "# 模型部分\n",
    "class TextCNN(nn.Module):\n",
    "    def __init__(self, emb_matrix, max_len, class_num):\n",
    "        super().__init__()\n",
    "        self.emb_matrix = emb_matrix\n",
    "        self.embedding_dim = self.emb_matrix.weight.shape[1]\n",
    "        self.block1 = Block(2, self.embedding_dim, max_len)\n",
    "        self.block2 = Block(3, self.embedding_dim, max_len)\n",
    "        self.block3 = Block(4, self.embedding_dim, max_len)\n",
    "        \n",
    "        self.classifier = nn.Linear(6,  class_num)\n",
    "        self.loss_fun = nn.CrossEntropyLoss()\n",
    "    \n",
    "    def forward(self, batch_idx, batch_label=None):\n",
    "        batch_emb = self.emb_matrix(batch_idx)\n",
    "        b1_result = self.block1.forward(batch_emb)\n",
    "        b2_result = self.block2.forward(batch_emb)\n",
    "        b3_result = self.block3.forward(batch_emb)\n",
    "        \n",
    "        feature = torch.cat([b1_result, b2_result, b3_result], dim=1) # 32 * 6 (batch_size * 6) 6为线性层的输入维度，固定的，因为是三个卷积后经过maxpooling的结果\n",
    "        prediction = self.classifier(feature)\n",
    "        if batch_label is not None:\n",
    "            loss = self.loss_fun(prediction, batch_label)\n",
    "            return loss\n",
    "        else:\n",
    "            return torch.argmax(prediction, dim=-1)"
   ],
   "id": "3649ea1d91691410",
   "outputs": [],
   "execution_count": 14
  },
  {
   "metadata": {
    "ExecuteTime": {
     "end_time": "2025-01-06T10:27:03.793223Z",
     "start_time": "2025-01-06T10:26:47.817989Z"
    }
   },
   "cell_type": "code",
   "source": [
    "label_mapping = {\n",
    "    \"ELDR\": 0,\n",
    "    \"GUE-NGL\": 1,\n",
    "    \"PPE-DE\": 2,\n",
    "    \"PSE\": 3,\n",
    "    \"Verts-ALE\": 4\n",
    "}\n",
    "\n",
    "train_texts, train_labels = read_train_data(\"./Corpus d_apprentissage/deft09_parlement_appr_en.xml\")\n",
    "test_texts, test_labels = read_test_data(\"./Corpus de test/deft09_parlement_test_en.xml\", \"./Données de référence/deft09_parlement_ref_en.txt\", 5000)\n",
    "\n",
    "train_texts = [[token.lower() for token in nltk.word_tokenize(text)] for text in train_texts]\n",
    "train_labels = [label_mapping[name] for name in train_labels]\n",
    "# train_texts必须是这样的：[[\"I\", \"am\", \"taotao\"], [\"she\", \"is\", \"laolao\"]]\n",
    "# train_labels必须是这样的：[1, 2, 0]\n",
    "\n",
    "test_texts = [[token.lower() for token in nltk.word_tokenize(text)] for text in test_texts]\n",
    "test_labels = [label_mapping[name] for name in test_labels]"
   ],
   "id": "6a9e7c6cef325e40",
   "outputs": [],
   "execution_count": 15
  },
  {
   "metadata": {
    "ExecuteTime": {
     "end_time": "2025-01-06T10:49:43.278917Z",
     "start_time": "2025-01-06T10:48:24.168404Z"
    }
   },
   "cell_type": "code",
   "source": [
    "embedding_dim = 20\n",
    "max_len = 200\n",
    "class_num = len(set(train_labels))\n",
    "batch_size = 64\n",
    "epoch = 50\n",
    "lr = 0.01\n",
    "device = torch.device(\"cuda\" if torch.cuda.is_available() else \"cpu\")\n",
    "\n",
    "word_2_index, words_embedding = build_corpus(train_texts, embedding_dim)\n",
    "\n",
    "train_dataset = TextDataset(train_texts, train_labels, word_2_index, max_len=max_len)\n",
    "train_loader = DataLoader(dataset=train_dataset, batch_size=batch_size, shuffle=False)\n",
    "# dataloader只是用来给train_dataset分batch，不改变其中的数据\n",
    "\n",
    "test_dataset = TextDataset(test_texts, test_labels, word_2_index, max_len=max_len)\n",
    "test_loader = DataLoader(dataset=test_dataset, batch_size=batch_size, shuffle=False)\n",
    "\n",
    "model = TextCNN(words_embedding, max_len, class_num).to(device)\n",
    "opt = torch.optim.AdamW(model.parameters(), lr=lr)\n",
    "\n",
    "losses, accuracy = [], []\n",
    "\n",
    "for e in range(epoch):\n",
    "    \n",
    "    train_loss, train_total = 0, 0\n",
    "    for batch_idx, batch_label in train_loader:\n",
    "        batch_idx = batch_idx.to(device)\n",
    "        batch_label = batch_label.to(device)\n",
    "        loss = model.forward(batch_idx, batch_label)\n",
    "        # 后面分batch将数据喂入模型\n",
    "        loss.backward()\n",
    "        opt.step()\n",
    "        opt.zero_grad()\n",
    "        \n",
    "        train_loss += loss.item() * batch_idx.size(0)\n",
    "        train_total += batch_idx.size(0)\n",
    "    \n",
    "    test_correct, test_total = 0, 0\n",
    "    for batch_idx, batch_label in test_loader:\n",
    "        batch_idx = batch_idx.to(device)\n",
    "        batch_label = batch_label.to(device)\n",
    "        \n",
    "        pre = model.forward(batch_idx)\n",
    "        test_correct += int(torch.sum(pre == batch_label).item())\n",
    "        test_total += batch_idx.size(0)\n",
    "    \n",
    "    epoch_loss = train_loss / train_total\n",
    "    epoch_acc = test_correct / test_total\n",
    "    \n",
    "    losses.append(epoch_loss)\n",
    "    accuracy.append(epoch_acc)\n",
    "    \n",
    "    print(f\"Epoch [{e+1}/{epoch}]: Train Loss: {epoch_loss:.3f} | \"\n",
    "          f\"Test Acc: {epoch_acc*100:.2f}%\")"
   ],
   "id": "43782158f8812755",
   "outputs": [
    {
     "name": "stdout",
     "output_type": "stream",
     "text": [
      "Epoch [1/50]: Train Loss: 1.495 | Test Acc: 37.06%\n",
      "Epoch [2/50]: Train Loss: 1.426 | Test Acc: 39.94%\n",
      "Epoch [3/50]: Train Loss: 1.362 | Test Acc: 43.26%\n",
      "Epoch [4/50]: Train Loss: 1.274 | Test Acc: 45.52%\n",
      "Epoch [5/50]: Train Loss: 1.170 | Test Acc: 48.50%\n",
      "Epoch [6/50]: Train Loss: 1.075 | Test Acc: 50.30%\n",
      "Epoch [7/50]: Train Loss: 0.985 | Test Acc: 52.00%\n",
      "Epoch [8/50]: Train Loss: 0.915 | Test Acc: 53.96%\n",
      "Epoch [9/50]: Train Loss: 0.846 | Test Acc: 55.30%\n",
      "Epoch [10/50]: Train Loss: 0.794 | Test Acc: 56.72%\n",
      "Epoch [11/50]: Train Loss: 0.762 | Test Acc: 56.28%\n",
      "Epoch [12/50]: Train Loss: 0.738 | Test Acc: 55.34%\n",
      "Epoch [13/50]: Train Loss: 0.714 | Test Acc: 56.68%\n",
      "Epoch [14/50]: Train Loss: 0.665 | Test Acc: 58.64%\n",
      "Epoch [15/50]: Train Loss: 0.602 | Test Acc: 60.42%\n",
      "Epoch [16/50]: Train Loss: 0.545 | Test Acc: 61.78%\n",
      "Epoch [17/50]: Train Loss: 0.497 | Test Acc: 62.72%\n",
      "Epoch [18/50]: Train Loss: 0.463 | Test Acc: 63.42%\n",
      "Epoch [19/50]: Train Loss: 0.442 | Test Acc: 63.48%\n",
      "Epoch [20/50]: Train Loss: 0.426 | Test Acc: 64.16%\n",
      "Epoch [21/50]: Train Loss: 0.415 | Test Acc: 64.32%\n",
      "Epoch [22/50]: Train Loss: 0.395 | Test Acc: 64.18%\n",
      "Epoch [23/50]: Train Loss: 0.380 | Test Acc: 64.28%\n",
      "Epoch [24/50]: Train Loss: 0.377 | Test Acc: 65.42%\n",
      "Epoch [25/50]: Train Loss: 0.381 | Test Acc: 64.48%\n",
      "Epoch [26/50]: Train Loss: 0.369 | Test Acc: 65.00%\n",
      "Epoch [27/50]: Train Loss: 0.331 | Test Acc: 65.10%\n",
      "Epoch [28/50]: Train Loss: 0.290 | Test Acc: 66.96%\n",
      "Epoch [29/50]: Train Loss: 0.261 | Test Acc: 67.50%\n",
      "Epoch [30/50]: Train Loss: 0.263 | Test Acc: 67.28%\n",
      "Epoch [31/50]: Train Loss: 0.256 | Test Acc: 66.78%\n",
      "Epoch [32/50]: Train Loss: 0.248 | Test Acc: 67.12%\n",
      "Epoch [33/50]: Train Loss: 0.238 | Test Acc: 67.46%\n",
      "Epoch [34/50]: Train Loss: 0.237 | Test Acc: 67.76%\n",
      "Epoch [35/50]: Train Loss: 0.233 | Test Acc: 66.92%\n",
      "Epoch [36/50]: Train Loss: 0.231 | Test Acc: 68.20%\n",
      "Epoch [37/50]: Train Loss: 0.222 | Test Acc: 68.68%\n",
      "Epoch [38/50]: Train Loss: 0.220 | Test Acc: 68.04%\n",
      "Epoch [39/50]: Train Loss: 0.213 | Test Acc: 69.48%\n",
      "Epoch [40/50]: Train Loss: 0.211 | Test Acc: 68.74%\n",
      "Epoch [41/50]: Train Loss: 0.205 | Test Acc: 68.58%\n",
      "Epoch [42/50]: Train Loss: 0.190 | Test Acc: 66.22%\n",
      "Epoch [43/50]: Train Loss: 0.195 | Test Acc: 67.14%\n",
      "Epoch [44/50]: Train Loss: 0.202 | Test Acc: 66.20%\n",
      "Epoch [45/50]: Train Loss: 0.192 | Test Acc: 67.46%\n",
      "Epoch [46/50]: Train Loss: 0.178 | Test Acc: 69.64%\n",
      "Epoch [47/50]: Train Loss: 0.161 | Test Acc: 69.58%\n",
      "Epoch [48/50]: Train Loss: 0.168 | Test Acc: 69.24%\n",
      "Epoch [49/50]: Train Loss: 0.164 | Test Acc: 69.26%\n",
      "Epoch [50/50]: Train Loss: 0.163 | Test Acc: 69.14%\n"
     ]
    }
   ],
   "execution_count": 21
  },
  {
   "metadata": {
    "ExecuteTime": {
     "end_time": "2025-01-06T10:49:47.568738Z",
     "start_time": "2025-01-06T10:49:47.519313Z"
    }
   },
   "cell_type": "code",
   "source": [
    "plt.plot(losses)\n",
    "plt.title(\"Training Loss\")\n",
    "plt.xlabel(\"Epoch\")\n",
    "plt.ylabel(\"Loss\")\n",
    "plt.show()"
   ],
   "id": "52f9bd0dfedca98f",
   "outputs": [
    {
     "data": {
      "text/plain": [
       "<Figure size 640x480 with 1 Axes>"
      ],
      "image/png": "[encoded data removed]"
     },
     "metadata": {},
     "output_type": "display_data"
    }
   ],
   "execution_count": 22
  },
  {
   "metadata": {
    "ExecuteTime": {
     "end_time": "2025-01-06T14:06:17.600486Z",
     "start_time": "2025-01-06T14:06:17.513Z"
    }
   },
   "cell_type": "code",
   "source": [
    "plt.plot(accuracy)\n",
    "plt.title(\"Test Accuracy\")\n",
    "plt.xlabel(\"Epoch\")\n",
    "plt.ylabel(\"Accuracy\")\n",
    "plt.show()"
   ],
   "id": "1c35ba02c677e6ae",
   "outputs": [
    {
     "data": {
      "text/plain": [
       "<Figure size 640x480 with 1 Axes>"
      ],
      "image/png": "[encoded data removed]"
     },
     "metadata": {},
     "output_type": "display_data"
    }
   ],
   "execution_count": 58
  },
  {
   "metadata": {
    "ExecuteTime": {
     "end_time": "2025-01-06T11:11:42.300002Z",
     "start_time": "2025-01-06T11:11:40.194460Z"
    }
   },
   "cell_type": "code",
   "source": [
    "predictions = []\n",
    "test_labels = []\n",
    "\n",
    "for test_idx, test_label in test_dataset:\n",
    "    test_idx = test_idx.to(device).unsqueeze(1)\n",
    "    prediction = model.forward(test_idx)\n",
    "    predictions.append(prediction.cpu().numpy())\n",
    "    test_labels.append(test_label)\n",
    "\n",
    "predictions = np.concatenate(predictions, axis=0)\n",
    "print(predictions)"
   ],
   "id": "a25afd48f377181a",
   "outputs": [
    {
     "name": "stdout",
     "output_type": "stream",
     "text": [
      "[2 2 4 ... 1 4 2]\n"
     ]
    }
   ],
   "execution_count": 56
  },
  {
   "metadata": {
    "ExecuteTime": {
     "end_time": "2025-01-06T11:11:48.875211Z",
     "start_time": "2025-01-06T11:11:48.868440Z"
    }
   },
   "cell_type": "code",
   "source": "print(classification_report(test_labels, predictions))",
   "id": "db53556a3d778ef6",
   "outputs": [
    {
     "name": "stdout",
     "output_type": "stream",
     "text": [
      "              precision    recall  f1-score   support\n",
      "\n",
      "           0       0.65      0.62      0.64       515\n",
      "           1       0.72      0.70      0.71       723\n",
      "           2       0.69      0.78      0.73      1752\n",
      "           3       0.76      0.61      0.68      1384\n",
      "           4       0.60      0.66      0.63       626\n",
      "\n",
      "    accuracy                           0.69      5000\n",
      "   macro avg       0.68      0.67      0.68      5000\n",
      "weighted avg       0.70      0.69      0.69      5000\n",
      "\n"
     ]
    }
   ],
   "execution_count": 57
  },
  {
   "metadata": {},
   "cell_type": "code",
   "outputs": [],
   "execution_count": null,
   "source": "",
   "id": "cbadc009e995319d"
  }
 ],
 "metadata": {
  "kernelspec": {
   "display_name": "Python 3",
   "language": "python",
   "name": "python3"
  },
  "language_info": {
   "codemirror_mode": {
    "name": "ipython",
    "version": 2
   },
   "file_extension": ".py",
   "mimetype": "text/x-python",
   "name": "python",
   "nbconvert_exporter": "python",
   "pygments_lexer": "ipython2",
   "version": "2.7.6"
  }
 },
 "nbformat": 4,
 "nbformat_minor": 5
}
