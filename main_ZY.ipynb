{
 "cells": [
  {
   "cell_type": "code",
   "id": "initial_id",
   "metadata": {
    "collapsed": true,
    "ExecuteTime": {
     "end_time": "2025-01-04T12:34:46.964138Z",
     "start_time": "2025-01-04T12:34:46.850657Z"
    }
   },
   "source": [
    "import xml.etree.ElementTree as ET\n",
    "import pandas as pd\n",
    "from sklearn.feature_extraction.text import TfidfVectorizer\n",
    "from sklearn.svm import LinearSVC\n",
    "from sklearn.metrics import classification_report"
   ],
   "outputs": [],
   "execution_count": 46
  },
  {
   "metadata": {
    "ExecuteTime": {
     "end_time": "2025-01-04T12:34:48.262185Z",
     "start_time": "2025-01-04T12:34:48.258143Z"
    }
   },
   "cell_type": "code",
   "source": "party_mapping = {'ELDR': 0, 'GUE-NGL': 1, 'PPE-DE': 2, 'PSE': 3, 'Verts-ALE': 4}",
   "id": "35e8a9357f77e201",
   "outputs": [],
   "execution_count": 47
  },
  {
   "metadata": {
    "ExecuteTime": {
     "end_time": "2025-01-04T12:34:49.049252Z",
     "start_time": "2025-01-04T12:34:49.028226Z"
    }
   },
   "cell_type": "code",
   "source": [
    "def parse_xml(file_path, is_train=True):\n",
    "    tree = ET.parse(file_path)\n",
    "    root = tree.getroot()\n",
    "\n",
    "    textes = []\n",
    "    labels = []\n",
    "    text_id = {}\n",
    "\n",
    "    for doc in root.findall('.//doc'):\n",
    "        doc_id = int(doc.attrib['id'].split(\":\")[-1]) - 1\n",
    "        texte = \" \".join([p.text.replace('\\xa0', '') for p in doc.findall('.//texte/p') if p.text is not None])\n",
    "        textes.append(texte)\n",
    "        text_id[texte] = doc_id\n",
    "\n",
    "        if is_train:\n",
    "            label = doc.find('.//PARTI').attrib['valeur']\n",
    "            labels.append(party_mapping[label])\n",
    "\n",
    "    if is_train:\n",
    "        return textes, labels, text_id\n",
    "\n",
    "    return textes, text_id"
   ],
   "id": "719c025eec9d89b9",
   "outputs": [],
   "execution_count": 48
  },
  {
   "metadata": {
    "ExecuteTime": {
     "end_time": "2025-01-04T12:34:50.359087Z",
     "start_time": "2025-01-04T12:34:50.348722Z"
    }
   },
   "cell_type": "code",
   "source": [
    "def parse_reference(file_path, test_dict, X_test):\n",
    "    references = {}\n",
    "    valid_textes = []\n",
    "    valid_labels = []\n",
    "\n",
    "    with open(file_path, 'r', encoding='utf-8') as f:\n",
    "        for line in f:\n",
    "            partis = line.strip().split('\\t')\n",
    "            if len(partis) < 2 or partis[1] not in party_mapping:\n",
    "                print(f\"Skipping line: {line.strip()}\")\n",
    "                continue\n",
    "\n",
    "            ref_id = int(partis[0]) - 1\n",
    "            if ref_id in test_dict.values():\n",
    "                references[ref_id] = party_mapping[partis[1]]\n",
    "\n",
    "    for texte in X_test:\n",
    "        if test_dict[texte] in references:\n",
    "            valid_textes.append(texte)\n",
    "            valid_labels.append(references[test_dict[texte]])\n",
    "\n",
    "    return valid_textes, valid_labels"
   ],
   "id": "8bf1853fb860eaa1",
   "outputs": [],
   "execution_count": 49
  },
  {
   "metadata": {
    "ExecuteTime": {
     "end_time": "2025-01-04T12:34:59.143872Z",
     "start_time": "2025-01-04T12:34:58.214457Z"
    }
   },
   "cell_type": "code",
   "source": [
    "train_file = './Corpus d_apprentissage/deft09_parlement_appr_en.xml'\n",
    "X_train, y_train, train_dict = parse_xml(train_file, is_train=True)"
   ],
   "id": "f43aabb1b620721b",
   "outputs": [],
   "execution_count": 50
  },
  {
   "metadata": {
    "ExecuteTime": {
     "end_time": "2025-01-04T12:35:04.140324Z",
     "start_time": "2025-01-04T12:35:03.781483Z"
    }
   },
   "cell_type": "code",
   "source": [
    "test_file = './Corpus de test/deft09_parlement_test_en.xml'\n",
    "X_test, test_dict = parse_xml(test_file, is_train=False)"
   ],
   "id": "1a817b873c22bf94",
   "outputs": [],
   "execution_count": 51
  },
  {
   "metadata": {
    "ExecuteTime": {
     "end_time": "2025-01-04T12:35:17.896694Z",
     "start_time": "2025-01-04T12:35:16.811715Z"
    }
   },
   "cell_type": "code",
   "source": [
    "ref_file = './Données de référence/deft09_parlement_ref_it.txt'\n",
    "X_test, y_test = parse_reference(ref_file, test_dict, X_test)"
   ],
   "id": "11a93235f94c1e6c",
   "outputs": [
    {
     "name": "stdout",
     "output_type": "stream",
     "text": [
      "Skipping line: 1239\n",
      "Skipping line: 8634\n"
     ]
    }
   ],
   "execution_count": 52
  },
  {
   "metadata": {
    "ExecuteTime": {
     "end_time": "2025-01-04T12:35:45.221461Z",
     "start_time": "2025-01-04T12:35:45.208069Z"
    }
   },
   "cell_type": "code",
   "source": "print(len(X_test), len(y_test))",
   "id": "124d439e489a025d",
   "outputs": [
    {
     "name": "stdout",
     "output_type": "stream",
     "text": [
      "12915 12915\n"
     ]
    }
   ],
   "execution_count": 53
  },
  {
   "metadata": {
    "ExecuteTime": {
     "end_time": "2025-01-04T12:36:18.598514Z",
     "start_time": "2025-01-04T12:36:12.637560Z"
    }
   },
   "cell_type": "code",
   "source": [
    "vectorizer = TfidfVectorizer()\n",
    "X_train_tfidf = vectorizer.fit_transform(X_train)\n",
    "X_test_tfidf = vectorizer.transform(X_test)"
   ],
   "id": "fe438826e467db7d",
   "outputs": [],
   "execution_count": 54
  },
  {
   "metadata": {
    "ExecuteTime": {
     "end_time": "2025-01-04T12:36:43.648065Z",
     "start_time": "2025-01-04T12:36:41.265047Z"
    }
   },
   "cell_type": "code",
   "source": [
    "clf = LinearSVC()\n",
    "clf.fit(X_train_tfidf, y_train)\n",
    "y_pred = clf.predict(X_test_tfidf)\n",
    "\n",
    "print(classification_report(y_test, y_pred))"
   ],
   "id": "7fca8fef9be9dcf",
   "outputs": [
    {
     "name": "stdout",
     "output_type": "stream",
     "text": [
      "              precision    recall  f1-score   support\n",
      "\n",
      "           0       0.10      0.08      0.09      1338\n",
      "           1       0.13      0.12      0.13      1793\n",
      "           2       0.36      0.42      0.39      4573\n",
      "           3       0.29      0.29      0.29      3627\n",
      "           4       0.13      0.10      0.11      1584\n",
      "\n",
      "    accuracy                           0.27     12915\n",
      "   macro avg       0.20      0.20      0.20     12915\n",
      "weighted avg       0.25      0.27      0.26     12915\n",
      "\n"
     ]
    }
   ],
   "execution_count": 55
  }
 ],
 "metadata": {
  "kernelspec": {
   "display_name": "Python 3",
   "language": "python",
   "name": "python3"
  },
  "language_info": {
   "codemirror_mode": {
    "name": "ipython",
    "version": 2
   },
   "file_extension": ".py",
   "mimetype": "text/x-python",
   "name": "python",
   "nbconvert_exporter": "python",
   "pygments_lexer": "ipython2",
   "version": "2.7.6"
  }
 },
 "nbformat": 4,
 "nbformat_minor": 5
}
